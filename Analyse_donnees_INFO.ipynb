{
 "cells": [
  {
   "cell_type": "markdown",
   "id": "32f562a5-ddb4-4baf-8488-1b5a7cbc53f3",
   "metadata": {},
   "source": [
    "<!DOCTYPE html>\n",
    "<html lang=\"en\">\n",
    "<head>\n",
    "    <meta charset=\"UTF-8\">\n",
    "    <meta name=\"viewport\" content=\"width=device-width, initial-scale=1.0\">\n",
    "</head>\n",
    "<body>\n",
    "    <div style=\"text-align:center; border:solid; padding:15px\"> <h1><strong>Rapport ParcourSup 2022/2023</strong></h1> </div>\n",
    "    <br>\n",
    "    <h2><strong>Introduction :</strong></h2>\n",
    "    <p> A Compléter</p>\n",
    "    <h2> <strong>Sommaire :</strong></h2>\n",
    "    <ol>\n",
    "        <li><a href=\"#Fonctions\"><strong>Fonctions</strong></a></li>\n",
    "        <ul>\n",
    "            <li><a href=#Fonction_principale>Fonction principale</a></li>\n",
    "            <li><a href=#Fonctions_secondaires>Fonctions secondaires</a></li>\n",
    "            <li><a href=#Type_graph>Type de graph</a></li>\n",
    "        </ul>\n",
    "        <li><a href=\"#Données\"><strong>Données</strong></a></li>\n",
    "        <ul>\n",
    "            <li><a href=#Candidature>Candidature</a></li>\n",
    "        </ul>\n",
    "        <li><a href=\"#Classement\"><strong>Classement</strong></a></li>\n",
    "        <ul>\n",
    "            <li><a href=#Récup_données>Récupération des données</a></li>\n",
    "            <li><a href=#Score>Calcul des scores</a></li>\n",
    "            <li><a href=#Attribution>Attribution du classement</a></li>\n",
    "            <li><a href=#Affichage>Affichage du classement</a></li>\n",
    "        </ul>\n",
    "        <li><a href=\"#Analyse_classement\"><strong>Analyse du classement</strong></a></li>\n",
    "        <ul>\n",
    "            <li><a href=#></a></li>\n",
    "        </ul>\n",
    "    </ol>"
   ]
  },
  {
   "cell_type": "code",
   "execution_count": null,
   "id": "4b283f2f-b32e-4cfb-8b25-d9071e09bfb3",
   "metadata": {},
   "outputs": [],
   "source": [
    "!pip install pandas --upgrade\n",
    "!pip install matplotlib --upgrade\n",
    "!pip install openpyxl --upgrade\n",
    "!pip install pyarrow --upgrade"
   ]
  },
  {
   "cell_type": "code",
   "execution_count": null,
   "id": "faf1eb92-8f7e-47fb-8be1-44bae6ef2e03",
   "metadata": {},
   "outputs": [],
   "source": [
    "import pandas as pd\n",
    "from math import *\n",
    "from matplotlib.pyplot import *\n",
    "from matplotlib import *"
   ]
  },
  {
   "cell_type": "code",
   "execution_count": null,
   "id": "1cbf846a-8a6b-44ef-adce-7f6548bf6d13",
   "metadata": {},
   "outputs": [],
   "source": [
    "df = pd.read_excel(\"INFO_Anonyme.xlsx\")\n",
    "categories_a_drop_car_vides = [col for col in df if df[col].isna().all()]\n",
    "df = df.drop(columns = categories_a_drop_car_vides)"
   ]
  },
  {
   "cell_type": "markdown",
   "id": "9dd59196-3543-4eae-9b83-206a5fd654da",
   "metadata": {},
   "source": [
    "<div id=\"Fonctions\">\n",
    "    <h2><strong>Fonctions</strong></h2>\n",
    "    <ul>\n",
    "        <li><a href=#Fonction_principale>Fonction principale</a></li>\n",
    "        <li><a href=#Fonctions_secondaires>Fonctions secondaires</a></li>\n",
    "        <li><a href=#Type_graph>Type de graph</a></li>\n",
    "    </ul>\n",
    "    <p>Dans le but de nous faciliter la tâche, nous avons dans un premier temps créer des fonctions qui nous permettraient de récupérer les données des candidats. Nous allons donc vous présenter les différentes fonctions qui nous permetterons d'analyser les données des candidats</p>\n",
    "</div>"
   ]
  },
  {
   "cell_type": "markdown",
   "id": "0b07a01f-0434-40c0-91d3-0fba35539cb6",
   "metadata": {},
   "source": [
    "<div id=\"Fonction_principale\">\n",
    "    <h3><strong>Fonction principale</strong></h3>\n",
    "    <p>\n",
    "        Notre fonction principale est la fonction <strong>graph</strong> qui nous permet de récupérer les données des candidats et de les afficher sous forme de graphique. <br>\n",
    "        Elle possède plusieurs paramètres qui nous permet d'afficher divers graphiques selon certaines conditions :\n",
    "    </p>\n",
    "    <ul>\n",
    "        <li>catégorie : Choix de la catégorie que l'on souhaite récupérer les données.</li>\n",
    "        <li>en_fonction_de : Filtre la DataFrame afin de pouvoir récupérer les données de la catégorie que l'on souhaite.</li>\n",
    "        <li>type_graph : Permet de choisir le type de graph que l'on souhaite affiché.</li>\n",
    "        <li>minimum : Les valeurs inférieurs à \"minimum\" seront stockés dans une catégorie \"Autres\".</li>\n",
    "        <li>classement : Filtre la DataFrame afin de récuperer les candidats que l'on souhaite analysés les données.</li>\n",
    "    </ul>\n",
    "    \n",
    "</div>"
   ]
  },
  {
   "cell_type": "code",
   "execution_count": null,
   "id": "5237a944-f9ac-4b63-967e-0dea88ccc027",
   "metadata": {},
   "outputs": [],
   "source": [
    "# Fonction qui permet d'afficher un graphe d'une catégorie avec conditions\n",
    "# catégorie : à prendre sur excel\n",
    "# minimum : affiche tout les clés qui ont + que le minimum d'étudiant, et affiche ce qui ont - du minimum dans une catégorie \"autres\"\n",
    "# Exemple d'utilisation :\n",
    "# if(graph(\"Langue vivante B scolarité - Libellé 2022/2023\")):show()\n",
    "def graph(categorie, en_fonction_de = None, type_graph = 'bar', minimum = 20, classement = None, df = df):\n",
    "\n",
    "    # Si la catégorie est des Notes, faire un graphique de densité plutôt\n",
    "    if (categorie[:7] == 'Moyenne'): type_graph = 'densite'\n",
    "\n",
    "    if en_fonction_de != None:\n",
    "        if len(en_fonction_de) >= 3:\n",
    "            for i in range (len(en_fonction_de)-1, 1, -1):\n",
    "                # On aurait aussi pu faire de la récursivité jusqu'à ce qu'il n'y ait plus qu'une seule dimension à afficher dans le graphique\n",
    "                graph(categorie = categorie, type_graph = type_graph, minimum = minimum,\n",
    "                      classement = classement, df = df, en_fonction_de = [en_fonction_de[0], en_fonction_de[i]])\n",
    "                show()\n",
    "                en_fonction_de.pop(i)\n",
    "        if len(en_fonction_de) == 2:\n",
    "            df = df.loc[df[en_fonction_de[0]] == en_fonction_de[1]]\n",
    "            print(\"\\n\" + en_fonction_de[0] + \" : \" + en_fonction_de[1] + \"\\n\")\n",
    "        else: return False\n",
    "\n",
    "    if classement != None:\n",
    "        # On filtre afin d'observer les étudiants dans le \"classement\"\n",
    "        df = df.loc[df[\"ID\"].isin(classement)]\n",
    "        \n",
    "    if (type_graph == 'densite'): graph_densite(categorie, df)\n",
    "\n",
    "    # Convertir toutes les valeurs en chaînes pour uniformiser\n",
    "    str_values = df[categorie].astype(str)\n",
    "    dic = str_values.value_counts()\n",
    "    X_labels = dic.index.tolist()\n",
    "    Y = dic.values\n",
    "    \n",
    "    if categorie[:7] == \"Commune\":\n",
    "        dep = departement(df)\n",
    "        X_labels = dep[0]\n",
    "        Y = dep[1]\n",
    "\n",
    "    # Mise à jour de X et Y avec les fonctions autres_X et autres_Y\n",
    "    X_labels = autres_X(X_labels, Y, minimum)\n",
    "    Y = autres_Y(Y, minimum)\n",
    "        \n",
    "    # Supprimer les nan si c'est la barre la plus haute\n",
    "    if (X_labels[0] == 'nan') and (Y[0] >= max(Y)):\n",
    "        X_labels = X_labels[1:]\n",
    "        Y = Y[1:]\n",
    "    \n",
    "    # Remplacer 'nan' par 'Non renseigné' dans X_labels restants\n",
    "    X_labels = ['Non renseigné' if label == 'nan' else label for label in X_labels]\n",
    "\n",
    "    if (type_graph == 'bar'): return graph_bar(categorie, minimum, Y, X_labels, dic)\n",
    "    if (type_graph == 'circulaire'): return graph_circulaire(Y, X_labels, dic, categorie)"
   ]
  },
  {
   "cell_type": "markdown",
   "id": "eed0a556-5f76-452c-bfa4-d6cf157919fb",
   "metadata": {},
   "source": [
    "<div id=\"Fonctions_secondaires\">\n",
    "    <h3>Fonctions secondaires</h3>\n",
    "    <p>Nous possédons quatre fonctions secondaires qui permettent le bon fonctionnement de notre fonction principale :</p>\n",
    "    <ul>\n",
    "        <li>Les fonctions <strong>autres_X</strong> et <strong>autres_Y</strong> qui permettent de stocker les données inférieur à \"minimum\" dans une catégorie appelée \"autres\"</li>\n",
    "        <li>La fonction <strong>departement</strong> qui récupère toutes les communes afin de les regroupés par département</li>\n",
    "        <li>La fonction <strong>classement</strong> qui récupère les positions des candidats dans le classement (sera introduite plus tard, lorsque nous aurons le classement)</li>\n",
    "    </ul>\n",
    "</div>"
   ]
  },
  {
   "cell_type": "markdown",
   "id": "36da865a-69f5-4e3f-8625-6af0fcede768",
   "metadata": {},
   "source": [
    "<p>La fonction <strong>autres_X</strong> regroupe les labels ayant des candidats inférieur à \"minimum\" dans une catégorie appelée \"Autres\". Pour cela, la fonction vérifie si le nombre d'étudiant dans un label est supérieur au minimum.</p>"
   ]
  },
  {
   "cell_type": "code",
   "execution_count": null,
   "id": "a89b59c3-c1ab-40da-a1b2-154df9cc55ce",
   "metadata": {},
   "outputs": [],
   "source": [
    "# Fonction qui renvoie une liste avec +n étudiant et le reste dans 'autres' pour X\n",
    "def autres_X(X, Y, minimum):\n",
    "    tab = []\n",
    "    autre_inclus = False\n",
    "    for i in range(len(X)):\n",
    "        if (Y[i] >= minimum): tab.append(X[i])\n",
    "        else: autre_inclus = True\n",
    "    if autre_inclus: tab.append('Autres')\n",
    "    return tab"
   ]
  },
  {
   "cell_type": "markdown",
   "id": "a2d2ca8e-5977-4f90-a71a-bda4de46847b",
   "metadata": {},
   "source": [
    "<p>La fonction <strong>autres_Y</strong> vérifie le nombre de candidat dans chaque label afin de regrouper le nombre de candidat dans la catégorie \"Autres\" lorsque celui-ci est inférieur à \"minimum.\"</p>"
   ]
  },
  {
   "cell_type": "code",
   "execution_count": null,
   "id": "47ab3911-d988-45c1-960a-cca67a3fbbfd",
   "metadata": {},
   "outputs": [],
   "source": [
    "# Fonction qui renvoie une liste avec +n étudiant et le reste dans 'autres' pour Y\n",
    "def autres_Y(Y, minimum):\n",
    "    tab = []\n",
    "    autre = 0\n",
    "    for valeur in Y:\n",
    "        if (valeur >= minimum): tab.append(valeur)\n",
    "        else: autre += valeur\n",
    "    if (autre > 0): tab.append(autre)\n",
    "    return tab"
   ]
  },
  {
   "cell_type": "markdown",
   "id": "f6f5ab0a-d3fd-46ce-a9bb-db1a167574b8",
   "metadata": {},
   "source": [
    "<p>La fonction <strong>departement</strong> récupère les communes de tout les candidats afin de les regroupés par département. Pour cela, la fonction récupère les 2 premiers chiffres des communes de chaque étudiant et les ajoutes dans un tableau s'il n'est pas encore dedans. Elle calcule ensuite de le nombre d'étudiants dans chaque département.</p>"
   ]
  },
  {
   "cell_type": "code",
   "execution_count": null,
   "id": "f6ef4286-b3ae-4445-b018-bb68c217c960",
   "metadata": {},
   "outputs": [],
   "source": [
    "def departement(df):\n",
    "    dep_tab = [] # Tableau avec les différents départements\n",
    "    dep_cpt = [] # Tableau avec le nombre d'étudiants dans chaque départements\n",
    "    \n",
    "    for i in df[\"Commune Etablissement origine - CodePostal 2022/2023\"]:\n",
    "        if len(str(i)) == 5:\n",
    "           if str(i)[:2] not in dep_tab:\n",
    "               dep_tab.append(str(i)[:2])\n",
    "        \n",
    "    for i in dep_tab :\n",
    "        cpt = 0\n",
    "        for j in df[\"Commune Etablissement origine - CodePostal 2021/2022\"]:\n",
    "            if (str(i) == str(j)[:2]): cpt += 1\n",
    "        dep_cpt.append(cpt)\n",
    "        \n",
    "    return [dep_tab, dep_cpt]"
   ]
  },
  {
   "cell_type": "markdown",
   "id": "84ba5290-a719-4767-a94f-657a8e0801df",
   "metadata": {},
   "source": [
    "<div id=\"Type_graph\">\n",
    "    <h3>Type de graph</h3>\n",
    "</div>"
   ]
  },
  {
   "cell_type": "markdown",
   "id": "9599c049-94c9-453a-880c-740204b8bbfb",
   "metadata": {},
   "source": [
    "<p>Le 1er graphique que l'on peut afficher est un graphique en bâtons, grâce à la fonction <strong>graph_bar</strong>.</br>\n",
    "    Cette fonction appelle récursivement graph (et donc elle-même) afin d'ajuster le minimum pour que la barre \"Autres\" ne soit pas trop importante (donc si il y a trop peu de valeurs affichées, elle va en regrouper moins dans \"Autres\")</p>"
   ]
  },
  {
   "cell_type": "code",
   "execution_count": null,
   "id": "88139580-3c6d-420c-9eec-38b8ba18398c",
   "metadata": {},
   "outputs": [],
   "source": [
    "# Fonction qui affiche spécifiquement un graphique en bâtons à partir de graph()\n",
    "def graph_bar(categorie, minimum, Y, X_labels, dic):\n",
    "    # Si 'Autre' est l'unique barre ou au moins 2 fois plus grande que la plus grande barre, refaire le graphique avec un minimum 2 fois plus petit\n",
    "    if ('Autre' in X_labels and minimum <= 20 and len(X_labels) < 25 and (len(X_labels) == 1 or Y[-1] >= 2 * max(Y[:-1]))):\n",
    "        if (minimum > 1): return graph(categorie, type_graph = 'bar', minimum = minimum // 2)\n",
    "        else:\n",
    "            print(\"Minimum trop petit, graphique de\", categorie, \"non généré.\")\n",
    "            return False\n",
    "\n",
    "    # Afficher la série sans la dernière ligne d'information\n",
    "    print(dic.to_string(max_rows = 15))\n",
    "        \n",
    "    # Ajuster la taille du graphique en fonction du nombre de barres (1 à 2 fois la largeur standard)\n",
    "    if len(X_labels) >= 20:\n",
    "        largeur = min(6.4 * (1 + (len(X_labels) - 20) / 10), 12.8)\n",
    "        figure(figsize = (largeur, 4.8))\n",
    "    \n",
    "    X = range(len(X_labels)) # Utiliser range(len(X_labels)) pour l'axe des X\n",
    "    gca().yaxis.set_major_locator(MaxNLocator(integer=True)) # Ajuster les graduations de l'axe Y pour n'avoir que des nombres entiers\n",
    "\n",
    "    # Mets des jolies couleurs et Autre en noir\n",
    "    nbr_couleurs = len(Y) - 1 if 'Autre' in X_labels else len(Y)\n",
    "    cmap = colormaps['hsv'].resampled(nbr_couleurs)\n",
    "    colors = [cmap(i) for i in range(nbr_couleurs)]\n",
    "    if ('Autre' in X_labels): colors.append('black')    \n",
    "        \n",
    "    bar(X, Y, color = colors)\n",
    "    ylabel(categorie.replace('Libellé en', 'Libellé en\\n'))\n",
    "    xticks(ticks = X, labels = X_labels, rotation =- 45, ha = 'left')\n",
    "    return True"
   ]
  },
  {
   "cell_type": "code",
   "execution_count": null,
   "id": "c695cff7-8d17-458c-87aa-85fe1c2ea8ee",
   "metadata": {},
   "outputs": [],
   "source": [
    "if graph('Type Formation - Libellé  2022/2023'): show()"
   ]
  },
  {
   "cell_type": "markdown",
   "id": "09b22f8b-d9d8-47cc-a76a-a50b0af48386",
   "metadata": {},
   "source": [
    "<p>On peut également afficher des graphiques \"en camembert\" avec <strong>graph_circulaire</strong>.</p>"
   ]
  },
  {
   "cell_type": "code",
   "execution_count": null,
   "id": "0a458e4b-52d6-4b2f-bd5b-47d2e9a34da7",
   "metadata": {},
   "outputs": [],
   "source": [
    "def graph_circulaire(Y, X_labels, dic, categorie):\n",
    "    print(dic.to_string(max_rows = 15))\n",
    "    fig, ax = subplots()\n",
    "    ax.pie(Y, labels = X_labels, autopct = '%1.1f%%')\n",
    "    ylabel(categorie.replace('Libellé en', 'Libellé en\\n'), labelpad = 200)\n",
    "    return True"
   ]
  },
  {
   "cell_type": "code",
   "execution_count": null,
   "id": "ebfffbf6-dba9-4887-b6af-4054b868892d",
   "metadata": {},
   "outputs": [],
   "source": [
    "if graph(\"Sexe\", type_graph='circulaire'): show()"
   ]
  },
  {
   "cell_type": "markdown",
   "id": "55341bbd-b4a9-4f57-b1cd-cad4db901600",
   "metadata": {},
   "source": [
    "<p>Le dernier type de graphiques que nous avons est un histogramme de densité. La fonction <strong>graph_densité</strong> affiche un histogramme avec un nombre arbitraire de barres, et affiche la moyenne des valeurs. Elle permet notamment d'afficher des notes et de comparer les notes entre 2 groupes si on l'appelle 2 fois avec des groupes différents.</p>"
   ]
  },
  {
   "cell_type": "code",
   "execution_count": null,
   "id": "ad7cc3f4-d1f5-418c-8103-03f394917dc5",
   "metadata": {},
   "outputs": [],
   "source": [
    "# Histogramme de densité, utile notamment pour les notes qui sont des float entre 0 et 20\n",
    "def graph_densite(categorie, df):\n",
    "    notes = pd.to_numeric(df[categorie], errors = 'coerce').dropna()\n",
    "    hist(notes, bins = 40, density = True, alpha = 0.6, color = 'g')\n",
    "    moyenne = notes.mean()\n",
    "    axvline(moyenne, color = 'blue', linestyle = 'dashed', linewidth = 1)\n",
    "    text(moyenne, ylim()[1], f'Moyenne: {moyenne:.2f}', ha = 'right', va = 'top', color = 'blue')\n",
    "    title(f\"Densité de {categorie}\")\n",
    "    ylabel(\"Densité\")\n",
    "    xlabel(\"Valeurs\")\n",
    "    return True"
   ]
  },
  {
   "cell_type": "code",
   "execution_count": null,
   "id": "cb92b429-12b4-4eb7-a268-1d173b775fde",
   "metadata": {},
   "outputs": [],
   "source": [
    "graph('Moyenne du Candidat en Enseignement scientifique pour trimestre 1')"
   ]
  },
  {
   "cell_type": "markdown",
   "id": "bd7a7232-c039-4b9d-a7f3-c6d1fff0d749",
   "metadata": {},
   "source": [
    "<div id=\"Données\">\n",
    "    <h2><strong>Données</strong></h2>\n",
    "    <ul>\n",
    "        <li><a href=#Candidature>Candidature</a></li>\n",
    "        <li><a href=#></a></li>\n",
    "        <li><a href=#></a></li>\n",
    "        <li><a href=#></a></li>\n",
    "    </ul>\n",
    "    <p>Présentation de nos données</p>\n",
    "</div>\n"
   ]
  },
  {
   "cell_type": "markdown",
   "id": "88f66be6-79f5-416a-92b5-913d9ba5094c",
   "metadata": {},
   "source": [
    "<div id=\"Candidature\"><h3>Candidature</h3></div>"
   ]
  },
  {
   "cell_type": "code",
   "execution_count": null,
   "id": "f4f5cffc-a738-4a44-b6b1-2582a2d5fa38",
   "metadata": {},
   "outputs": [],
   "source": [
    "if graph(\"Vœu confirmé - Libellé\"): show()"
   ]
  },
  {
   "cell_type": "code",
   "execution_count": null,
   "id": "f4cb83b2-0b77-499f-87c3-69cb29cc77cf",
   "metadata": {},
   "outputs": [],
   "source": [
    "if (graph(\"Sexe\", type_graph = \"circulaire\")): show()\n",
    "if (graph(\"Candidat boursier - Libellé\", [\"Sexe\", \"Féminin\", \"Masculin\"], type_graph = \"circulaire\")): show()"
   ]
  },
  {
   "cell_type": "markdown",
   "id": "a9eb0d16",
   "metadata": {},
   "source": [
    "<p>On observe que le pourcentage de femmes boursières est légèrement plus élevé que celui des hommes</p>"
   ]
  },
  {
   "cell_type": "code",
   "execution_count": null,
   "id": "2a856f30-5582-422c-b743-6dd207951b79",
   "metadata": {},
   "outputs": [],
   "source": [
    "if (graph(\"Série de classe - Libellé 2022/2023\")): show()"
   ]
  },
  {
   "cell_type": "markdown",
   "id": "5e0d5eeb-6777-4f23-8fbe-32e31f0fed34",
   "metadata": {},
   "source": [
    "<div id=\"Classement\">\n",
    "    <h2><strong>Classement</strong></h2>\n",
    "    <ul>\n",
    "        <li><a href=#Récup_données>Récupération des données</a></li>\n",
    "        <li><a href=#Score>Calcul des scores</a></li>\n",
    "        <li><a href=#Attribution>Attribution du classement</a></li>\n",
    "        <li><a href=#Affichage>Affichage du classement</a></li>\n",
    "    </ul>\n",
    "    <h3>Principe</h3>\n",
    "    <p>\n",
    "        Nous allons à nôtre tour proposer un classement à l'aide des données que nous possédons.<br>\n",
    "        Pour cela, nous allons procéder par plusieurs étapes :\n",
    "        <ol>\n",
    "            <li>Récupérer toute les moyennes et notes d'épreuves de chaque candidats</li>\n",
    "            <li>Classer uniquement les candidats qui nous intéressent, avec un filtre</li>\n",
    "            <li>Calculer un score pour chaque candidats à l'aide de certaines conditions</li>\n",
    "            <li>Attribuer un rang à chaque candidat</li>\n",
    "        </ol>\n",
    "    </p>\n",
    "</div>"
   ]
  },
  {
   "cell_type": "markdown",
   "id": "5241d9ae-c283-46e1-b274-85771e78ca80",
   "metadata": {},
   "source": [
    "<div id=\"Récup_données\">\n",
    "    <h3>Récupération des données</h3>\n",
    "    <p>On commence par récupérer les moyennes de chaque candidat à l'aide nos fonction :</p>\n",
    "    <ul>\n",
    "        <li>recup_donnee_epreuve</li>\n",
    "        <li>recup_donnee_trimestre</li>\n",
    "        <li>recup_donnee_candidat</li>\n",
    "        <li>moyenne_candidat</li>\n",
    "    </ul>\n",
    "</div>"
   ]
  },
  {
   "cell_type": "markdown",
   "id": "a229a658-bc48-45f1-bafd-12b879b55e2d",
   "metadata": {},
   "source": [
    "<p> La fonction <strong>recup_donnee_epreuve</strong> permet de :</p> \n",
    "<ul>\n",
    "    <li>Récupérer les note de chaque épreuve</li>\n",
    "    <li>Calculer la moyenne des note des épreuves en contrôle continue</li>\n",
    "</ul>"
   ]
  },
  {
   "cell_type": "code",
   "execution_count": null,
   "id": "934f4e10-b893-4ef5-859a-a1feacb9142e",
   "metadata": {},
   "outputs": [],
   "source": [
    "def recup_donnee_epreuve(df, position):\n",
    "    # Ajoute les matières des épreuves du candidat\n",
    "    matiere_epreuve = []\n",
    "    # Ajoute les moyennes des épreuves du candidat, Pas de note = 0\n",
    "    moyenne_epreuve = []\n",
    "    for col in df:\n",
    "        if col.startswith(\"Epreuve - Libelle\"): \n",
    "            if len(matiere_epreuve) != len(moyenne_epreuve):\n",
    "                moyenne_epreuve.append(0) # Pas de note = 0\n",
    "            matiere_epreuve.append(df[col][position])\n",
    "        if col.startswith(\"Note de l'épreuve\"):\n",
    "            moyenne_epreuve.append(df[col][position])\n",
    "    \n",
    "    if len(matiere_epreuve) != len(moyenne_epreuve):\n",
    "        moyenne_epreuve.append(0) # Pas de note = 0\n",
    "    \n",
    "    matiere, moyenne = [], []\n",
    "    # Regroupe les moyennes des 2 années (premières + terminale)\n",
    "    for i in range(len(matiere_epreuve)):\n",
    "        if (\"Moyenne\" in matiere_epreuve[i]): a = 0\n",
    "        elif matiere_epreuve[i][-1:] != ')':\n",
    "            matiere.append(matiere_epreuve[i] + \" (Épreuve)\")\n",
    "            moyenne.append(moyenne_epreuve[i])\n",
    "        elif \"Contrôle continu de première\" in matiere_epreuve[i]:\n",
    "            matiere.append(matiere_epreuve[i][:-13] + \")\")\n",
    "            moyenne.append(float(str((moyenne_epreuve[i] + moyenne_epreuve[i+1]) / 2)[:5]))\n",
    "        elif \"épreuve ponctuelle de première\" in matiere_epreuve[i]:\n",
    "            matiere.append(matiere_epreuve[i][:-33] + \" (Épreuve)\")\n",
    "            moyenne.append(moyenne_epreuve[i])\n",
    "                \n",
    "    return [matiere, moyenne]"
   ]
  },
  {
   "cell_type": "markdown",
   "id": "a562d63d-6fd4-4b43-b786-6675d3d73724",
   "metadata": {},
   "source": [
    "<p> La fonction <strong>recup_donnee_trimestre</strong> permet de :</p> \n",
    "<ul>\n",
    "    <li>Récupérer les moyennes de chaque trimestre de chaque matière</li>\n",
    "    <li>Calculer la moyenne des moyennes de chaque trimestre de chaque matière</li>\n",
    "</ul>"
   ]
  },
  {
   "cell_type": "code",
   "execution_count": null,
   "id": "abb88130-fb0b-4c49-90fa-57196f172d59",
   "metadata": {},
   "outputs": [],
   "source": [
    "def recup_donnee_trimestre(df, position, cible = \"Candidat\"):\n",
    "    matiere_trimestre = []\n",
    "    for col in df.columns:\n",
    "        if col.startswith(\"Matière - Libellé\"):\n",
    "            if col.endswith(\".1\"):\n",
    "                matiere = col[21:-19]\n",
    "            else:\n",
    "                matiere = col[21:-17]\n",
    "            matiere_trimestre.append(matiere)\n",
    "            \n",
    "    prefix_moyenne = \"Moyenne du Candidat\" if cible == \"Candidat\" else \"Moyenne classe Candidat\"\n",
    "    moyenne_trimestre = [df[col][position] for col in df.columns if col.startswith(prefix_moyenne)]\n",
    "\n",
    "    # Trouve toutes les matières de tous les trimestres et fait la somme (première + terminale)\n",
    "    matiere_moyenne_dict = {}\n",
    "    for matiere, moyenne in zip(matiere_trimestre, moyenne_trimestre):\n",
    "        if moyenne not in [\"Aucune note\", \"Dispensé(e)\", \"En attente\"]:\n",
    "            if matiere + \" (Trimestre)\" not in matiere_moyenne_dict:\n",
    "                matiere_moyenne_dict[matiere + \" (Trimestre)\"] = [moyenne, 1]\n",
    "            else:\n",
    "                matiere_moyenne_dict[matiere + \" (Trimestre)\"][0] += moyenne\n",
    "                matiere_moyenne_dict[matiere + \" (Trimestre)\"][1] += 1\n",
    "    \n",
    "    # Calculer les moyennes finales par matière\n",
    "    for matiere, (somme, nb_trimestre) in matiere_moyenne_dict.items():\n",
    "        if nb_trimestre != 0: matiere_moyenne_dict[matiere] = round(somme / nb_trimestre, 2)\n",
    "        else: matiere_moyenne_dict[matiere] = \"Aucune note\"\n",
    "    \n",
    "    # Retourne [matiere, moyenne]\n",
    "    return [list(matiere_moyenne_dict.keys()), list(matiere_moyenne_dict.values())]"
   ]
  },
  {
   "cell_type": "markdown",
   "id": "bab16123-9c92-4db1-b82a-a38d06baee74",
   "metadata": {},
   "source": [
    "<p>La fonction <strong>recup_donnee_candidat</strong> nous permet de récupérer :</p>\n",
    "    <ul>\n",
    "        <li>Les notes d'épreuves d'un candidat à l'aide de la fonction <strong>recup_donnee_epreuve</strong></li>\n",
    "        <li>Les moyennes de chaque matière d'un candidat à l'aide de la fonction <strong>recup_donnee_trimestre</strong></li>\n",
    "        <li>Supprimer les doublons de chaque matière</li>\n",
    "    </ul"
   ]
  },
  {
   "cell_type": "code",
   "execution_count": null,
   "id": "e1f5a0c4-1684-463a-9bb1-fafe0a36d826",
   "metadata": {},
   "outputs": [],
   "source": [
    "# Fonction qui renvoie les matières et les notes d'un candidat\n",
    "def recup_donnee_candidat(df, position):\n",
    "    matiere, moyenne = recup_donnee_epreuve(df, position)\n",
    "\n",
    "    # Récupération des données pour les trimestres\n",
    "    trimestre_data = recup_donnee_trimestre(df, position)\n",
    "    trimestre_matieres, trimestre_moyennes = trimestre_data\n",
    "\n",
    "    # Ajout des données des trimestres aux listes matiere et moyenne\n",
    "    matiere.extend(trimestre_matieres)\n",
    "    moyenne.extend(trimestre_moyennes)\n",
    "    \n",
    "    for x in matiere:\n",
    "        if \"(Trimestre)\" in x:\n",
    "            if x[:-11] + \"(Contrôle continu)\" in matiere:\n",
    "                le = matiere.index(x[:-11] + \"(Contrôle continu)\")\n",
    "                matiere.pop(le)\n",
    "                moyenne.pop(le)\n",
    "                \n",
    "    return [matiere, moyenne]\n"
   ]
  },
  {
   "cell_type": "markdown",
   "id": "eb669ed3-d14a-4370-9b7e-aaa02f7be06d",
   "metadata": {},
   "source": [
    "<p>\n",
    "    La fonction <strong>moyenne_candidat</strong> nous permet de récupérer les moyennes ainsi que les note d'épreuves d'un candidat à l'aide de la fonction <strong>recup_donnee_candidat</strong>. <br>\n",
    "</p>"
   ]
  },
  {
   "cell_type": "code",
   "execution_count": null,
   "id": "53f4b6d9-e75e-44fa-9b66-0896215cf299",
   "metadata": {},
   "outputs": [],
   "source": [
    "# Fonction qui renvoie un dictionnaire contenant les moyennes de chaques matière pour un candidat donné\n",
    "def moyenne_candidat(df, position):\n",
    "    position-=1\n",
    "    M = df.loc[df[\"ID\"] == position+1] # Filtre le DataFrame pour obtenir les données du candidat spécifié\n",
    "    M = M.dropna(axis = 1, how = 'all') # Supprime les colonnes vides\n",
    "    matiere, moyenne = recup_donnee_candidat(M, position) # Récupère les matières et les moyennes\n",
    "    dic = dict(zip(matiere, moyenne)) # Crée un dictionnaire associant chaque matière à sa moyenne\n",
    "    return dic\n",
    "\n",
    "# Affichage des moyennes et des notes d'épreuves du Candidat \"ID 1\"\n",
    "moyenne_candidat(df, 1)"
   ]
  },
  {
   "cell_type": "markdown",
   "id": "08947a8a-78fb-40ef-8f9b-7394685605cb",
   "metadata": {},
   "source": [
    "<div id=\"Score\">\n",
    "    <h3>Calcul des scores</h3>\n",
    "    <p>\n",
    "        On calcule un score pour chaque candidat :<br>\n",
    "        On fait la somme du produit de leurs notes et du coefficient associé arbitrairement à la matière, puis on multiplie leur score par un modifier en fonction de certaines règles.\n",
    "    </p>\n",
    "</div>"
   ]
  },
  {
   "cell_type": "markdown",
   "id": "cc8485ad-22ec-41da-9c66-3b38936764c0",
   "metadata": {},
   "source": [
    "<p><u>On commence par attribuer un coefficient à chaque matière afin de pouvoir calculer le score :</u></br>\n",
    "On a décidé que la matière la plus importante (donc qui compte le plus dans le score) sont les <strong>Mathématiques</strong>.</br>\n",
    "Ensuite on a les spécialités <strong>NSI</strong> et <strong>Physique-Chimie</strong>.</br>\n",
    "L'<strong>Anglais</strong>, <strong>Sciences de l'Ingénieur</strong> et le <strong>Grand Oral</strong> comptent pour encore un peu moins.<br>\n",
    "Puis on trouve les matières plus littéraires comme <strong>Français</strong> et <strong>Histoire-Géographie</strong>, mais également l'<strong>Enseignement Scientifique</strong> que nous avons jugé peu important dans ce contexte (d'expérience).</br>\n",
    "Enfin, les <strong>Options</strong> comptent comme un petit bonus, avec <strong>Maths Expertes</strong> la plus valorisée. La <strong>Langue Vivante B</strong> n'est pas plus pertinente que les options à nos yeux.\n",
    "</p>\n",
    "<p><em>Ces coefficients sont modifiables sans problèmes si ils sont jugés indigents.</em></p>"
   ]
  },
  {
   "cell_type": "code",
   "execution_count": null,
   "id": "b32e606d-48c5-4b81-9b9a-62b23290c85e",
   "metadata": {},
   "outputs": [],
   "source": [
    "dic_coefficient = {\"Epreuve orale terminale dite Grand Oral (Épreuve)\" : 10, \"Français écrit (Épreuve)\" : 3,\n",
    "                   \"Français oral (Épreuve)\" : 3, \"Mathématiques (Épreuve)\" : 20,\n",
    "                   \"Numérique et sciences informatiques (Épreuve)\" : 15,\n",
    "\n",
    "                   \"Langue vivante A (Contrôle continu)\" : 8, \"Langue vivante A (Trimestre)\" : 8,\n",
    "                   \"Histoire - Géographie (Contrôle continu)\" : 3, \"Histoire-Géographie (Contrôle continu)\" : 3,\n",
    "                   \"Mathématiques (Contrôle continu)\" : 20, \"Mathématiques (Trimestre)\" : 20, \"Mathématiques Spécialité (Trimestre)\" : 20, \n",
    "                   \"Enseignement scientifique (Contrôle continu)\" : 5, \"Enseignement scientifique (Trimestre)\" : 5,\n",
    "                   \"Langue vivante B (Trimestre)\" : 3,\n",
    "                   \"Physique-Chimie et Mathématiques (Trimestre)\" : 25, \n",
    "                   \"Français (Trimestre)\" : 5,\n",
    "                   \"Numérique et sciences informatiques (Trimestre)\" : 15, \n",
    "                   \"Sciences de l'ingénieur (Trimestre)\" : 15,\n",
    "\n",
    "                   \"Mathématiques Expertes (Trimestre)\" : 4, \"Mathématiques Complémentaires (Trimestre)\" : 15, \n",
    "                   \"DNL Mathématiques Spécialité (Trimestre)\" : 2, \"DNL Physique-Chimie Spécialité (Trimestre)\" : 2, \n",
    "                   \"DNL Sciences de l'ingénieur (Trimestre)\" : 2, \"DNL Enseignement scientifique (Trimestre)\" : 2}"
   ]
  },
  {
   "cell_type": "markdown",
   "id": "064cc127-ca6d-4291-b2f1-40a21aa57984",
   "metadata": {},
   "source": [
    "<p>La fonction <strong>score</strong> fait la somme des produit de la note dans une matière et du coefficient attribué à cette matière. </br>\n",
    "Si on a la moyenne calculée du contrôle continu de l'élève de base dans le fichier (dans une colonne \"Epreuve - Libellé\", avec comme valeur \"Histoire - Géographie (Contrôle continu de première)\" par exemple, et qu'on a également ses notes de trimestre (qu'on a aggrégé nous-même en une moyenne), on garde la moitié de chaque pour réduire les erreurs au maximum.</p>"
   ]
  },
  {
   "cell_type": "code",
   "execution_count": null,
   "id": "10ef77ff-7607-4f3d-88fd-d1ca856f8887",
   "metadata": {},
   "outputs": [],
   "source": [
    "# calcule le score d'un étudiant à l'aide des différents coefficients sur chaques matières\n",
    "def score(dic_etudiant):\n",
    "    score = 0\n",
    "    \n",
    "    for i in dic_etudiant:\n",
    "        if (i in dic_coefficient) and (dic_etudiant[i] != \"Aucune note\"):\n",
    "            score += dic_etudiant[i] * dic_coefficient[i]\n",
    "        match i:\n",
    "            case \"Histoire-Géographie (Épreuve)\":\n",
    "                if \"Histoire - Géographie (Contrôle continu)\" in dic_etudiant:\n",
    "                    score += ((-0.5 * dic_etudiant[\"Histoire - Géographie (Contrôle continu)\"] + 0.5 * dic_etudiant[i])\n",
    "                                * dic_coefficient[\"Histoire - Géographie (Contrôle continu)\"])\n",
    "                if \"Histoire-Géographie (Contrôle continu)\" in dic_etudiant:\n",
    "                    score += ((-0.5 * dic_etudiant[\"Histoire-Géographie (Contrôle continu)\"] + 0.5 * dic_etudiant[i])\n",
    "                                * dic_coefficient[\"Histoire-Géographie (Contrôle continu)\"])\n",
    "            case \"Langue vivante A (Épreuve)\" :\n",
    "                if \"Langue vivante A (Contrôle continu)\" in dic_etudiant:\n",
    "                    score += ((-0.5 * dic_etudiant[\"Langue vivante A (Contrôle continu)\"] + 0.5 * dic_etudiant[i])\n",
    "                                * dic_coefficient[\"Langue vivante A (Contrôle continu)\"])\n",
    "                if \"Langue vivante A (Trimestre)\" in dic_etudiant:\n",
    "                    score += ((-0.5 * dic_etudiant[\"Langue vivante A (Trimestre)\"] + 0.5 * dic_etudiant[i])\n",
    "                                * dic_coefficient[\"Langue vivante A (Trimestre)\"])\n",
    "            case \"Enseignement scientifique (Épreuve)\":\n",
    "                if \"Enseignement scientifique (Contrôle continu)\" in dic_etudiant:\n",
    "                    score += ((-0.5 * dic_etudiant[\"Enseignement scientifique (Contrôle continu)\"] + 0.5 * dic_etudiant[i])\n",
    "                                * dic_coefficient[\"Enseignement scientifique (Contrôle continu)\"])\n",
    "                if \"Enseignement scientifique (Trimestre)\" in dic_etudiant:\n",
    "                    score += ((-0.5 * dic_etudiant[\"Enseignement scientifique (Trimestre)\"] + 0.5 * dic_etudiant[i])\n",
    "                                * dic_coefficient[\"Enseignement scientifique (Trimestre)\"])\n",
    "    return score"
   ]
  },
  {
   "cell_type": "markdown",
   "id": "a61c015e-3b31-4a27-8b63-8aa28c774f87",
   "metadata": {},
   "source": [
    "<div id=\"Attribution\">\n",
    "    <h3>Attribution du classement</h3>\n",
    "    <p>Maintenant que nous avons attribuer un score pour chaque candidat, nous allons les classer entre eux avec <strong>classement_etudiant</strong>.</p>\n",
    "</div>"
   ]
  },
  {
   "cell_type": "code",
   "execution_count": null,
   "id": "0a7e3f76-3fff-4af7-a5b1-c640cfd531a2",
   "metadata": {},
   "outputs": [],
   "source": [
    "def classement_etudiant(dic, tab, position):\n",
    "    # Création d'un dictionnaire pour associer les scores aux identifiants\n",
    "    score_to_ids = {}\n",
    "    for id in position:\n",
    "        score = dic[id][\"Score\"]\n",
    "        if score in score_to_ids: \n",
    "            score_to_ids[score].append(id)\n",
    "        else: score_to_ids[score] = [id]\n",
    "\n",
    "    tab.sort(reverse = True)\n",
    "\n",
    "    classement = []\n",
    "    for score in tab:\n",
    "        # Ajout des identifiants dans le classement, tout en évitant les doublons\n",
    "        if score_to_ids[score]:\n",
    "            classement.append(score_to_ids[score].pop(0))\n",
    "\n",
    "    return classement"
   ]
  },
  {
   "cell_type": "markdown",
   "id": "d6a41752-ee38-4779-b367-a58b28aab4fb",
   "metadata": {},
   "source": [
    "<h4>Règle 2 : </h4>\n",
    "<p>On rajoute 5 % au score d'un élève pour chaque année d'étude qu'il a fait après le bac.</p>\n",
    "<p></br>La fonction <stronp>tableau_notes_etudiants</strong> va appeler la fonction <code>score(dic_etudiant)</code> pour chaque étudiant puis <code>classement_etudiant(dic, tab, position)</code>, va tout aggéger et renvoyer le classement final (et un dictionnaire en plus, pour une utilisation dans une autre fonction).</p> "
   ]
  },
  {
   "cell_type": "code",
   "execution_count": null,
   "id": "b113efa9-a453-4309-8e3e-537f42a23884",
   "metadata": {},
   "outputs": [],
   "source": [
    "annees_superieures = [\"1ère année d'études supérieures\",\n",
    "                      \"2nd année d'études supérieures\",\n",
    "                      \"3ème année d'études supérieures\",\n",
    "                      \"4ème année d'études supérieures ou plus\"]\n",
    "\n",
    "def tableau_notes_etudiants(df):\n",
    "    position = df.index\n",
    "    dic = {}\n",
    "    classement_info = {}\n",
    "    \n",
    "    # Créer un dictionnaire contenant les moyennes des matières de chaques élèves (après le filtre)\n",
    "    for i in position:\n",
    "        dic[i] = moyenne_candidat(df, i+1)\n",
    "    \n",
    "    # Change la moyenne générale de chaques étudiants selon nos coefficients dans chaque matières\n",
    "    tab_scores = []\n",
    "    for i in position:\n",
    "        dic[i][\"Score\"] = score(dic[i])\n",
    "        for j in range(0, len(annees_superieures)):\n",
    "            if df.at[i, \" Niveau Etude - Libellé 2022/2023\"] == annees_superieures[j]:\n",
    "                dic[i][\"Score\"] *= 1 + (j+1)/20 # Application de la règle 2\n",
    "        tab_scores.append(dic[i][\"Score\"])\n",
    "    \n",
    "    # Attribue un classement selon leurs moyennes avec coefficient\n",
    "    classement = classement_etudiant(dic, tab_scores, position)\n",
    "    for i in range(len(classement)):\n",
    "        dic[classement[i]][\"Classement\"] = i+1\n",
    "    \n",
    "    # Réorganise le dictionnaire afin de les trier par ordre de classement\n",
    "    dic_final = {}\n",
    "    for i in range(len(position)+1):\n",
    "        for j in position:\n",
    "            if dic[j][\"Classement\"] == i:\n",
    "                dic_final[\"ID \" + str(j+1)] = dic[j]\n",
    "\n",
    "    for i in df.index:\n",
    "        classement_info[i] = dic[i][\"Classement\"]\n",
    "        \n",
    "    return pd.DataFrame(dic_final), classement_info"
   ]
  },
  {
   "cell_type": "markdown",
   "id": "82d8d489-589b-486c-b6aa-54ded1e637a9",
   "metadata": {},
   "source": [
    "<h4>Règle 1 :</h4>\n",
    "<p>On mets en <strong>\"ACM\"</strong>(À Classer Manuellement) les élèves qui ont autre chose que <strong>\"Terminale\"</strong> dans <strong>\" Niveau Etude - Libellé 2022/2023\"</strong> qui n'ont soit pas de note en Mathématiques, soit moins de 7 notes dans des matières différentes. <br>\n",
    "Si ils était en Terminale en 2022/2023 mais ne respectent pas l'un des 2 critères, ils sont alors en <strong>\"NC\"</strong> (Non Classé).</p>\n",
    "<p>Cette règle est appliqué directement dans le dataframe avec la fonction <strong>appliquer_regle_1</strong>.</p>"
   ]
  },
  {
   "cell_type": "code",
   "execution_count": null,
   "id": "faa89924-3f6f-4d71-94e6-227a10cf4f81",
   "metadata": {},
   "outputs": [],
   "source": [
    "def appliquer_regle_1(df, condition):\n",
    "    variantes_math = [\n",
    "        \"Mathématiques (Épreuve)\",\n",
    "        \"Mathématiques (Contrôle continu)\",\n",
    "        \"Mathématiques (Trimestre)\",\n",
    "        \"Mathématiques Spécialité (Trimestre)\",\n",
    "        \"Mathématiques Expertes (Trimestre)\",\n",
    "        \"Mathématiques Complémentaires (Trimestre)\"\n",
    "    ]\n",
    "    \n",
    "    for i in df.loc[condition].index:\n",
    "        dic_notes = moyenne_candidat(df, i + 1)\n",
    "        a_note_math = any(variante in dic_notes for variante in variantes_math)\n",
    "\n",
    "        if (df.at[i, \" Niveau Etude - Libellé 2022/2023\"] != \"Terminale\") and ((not a_note_math) or (len(dic_notes) < 7)):\n",
    "            df.loc[i, 'Classement V2'] = 'ACM'\n",
    "        elif (not a_note_math) or (len(dic_notes) < 7):\n",
    "                df.loc[i, 'Classement V2'] = 'NC'\n",
    "\n",
    "    return df"
   ]
  },
  {
   "cell_type": "markdown",
   "id": "09131684-57df-49f3-988d-632698b020c9",
   "metadata": {},
   "source": [
    "<p>La fonction <strong>classement_par_groupe</strong> appelle <code>appliquer_regle_1(df, condition)</code> sur le dataframe filtré pour n'afficher qu'un seul groupe, puis appelle <code>tableau_notes_etudiants(df)</code> avec ce dataframe filtré sur lequel la règle 1 est appliquée. Elle renvoie ensuite le dataframe modifié avec cette nouvelle colonne <u>\"Classement V2\"</u> remplie pour le groupe, et un dataframe permettant d'afficher le classement avec les notes des étudiants par matière.</p>"
   ]
  },
  {
   "cell_type": "code",
   "execution_count": null,
   "id": "ad6c4bfb-1e04-406c-a4ca-a1b8c2ef130f",
   "metadata": {},
   "outputs": [],
   "source": [
    "def classement_par_groupe(df, groupe):\n",
    "    # On ne prend que les candidats d'un certain groupe\n",
    "    condition_groupe = df['Groupe candidat - Code'] == groupe\n",
    "    df = appliquer_regle_1(df, condition_groupe)\n",
    "    \n",
    "    df2 = df.loc[(df['Classement V2'] != 'ACM') & (df['Classement V2'] != 'NC') & condition_groupe]\n",
    "    resultat, classement_info = tableau_notes_etudiants(df2)\n",
    "    \n",
    "    # Mise à jour de df avec le classement\n",
    "    for i in classement_info:\n",
    "        df.at[i, 'Classement V2'] = classement_info[i]\n",
    "    return df, resultat"
   ]
  },
  {
   "cell_type": "markdown",
   "id": "60cb5ae6-7531-4c29-93e1-359cf5fd09c9",
   "metadata": {},
   "source": [
    "<div id=\"Affichage\">\n",
    "    <h3>Exécution et Affichage du classement</h3>\n",
    "</div>"
   ]
  },
  {
   "cell_type": "code",
   "execution_count": null,
   "id": "f1114951-f283-478c-9d31-6032ab7be844",
   "metadata": {},
   "outputs": [],
   "source": [
    "df, resultat = classement_par_groupe(df, 142309)\n",
    "print(resultat)"
   ]
  },
  {
   "cell_type": "code",
   "execution_count": null,
   "id": "676ad6ba-efd1-4993-bf0f-6fe5e936a8bd",
   "metadata": {},
   "outputs": [],
   "source": [
    "df, resultat = classement_par_groupe(df, 7415)\n",
    "print(resultat)"
   ]
  },
  {
   "cell_type": "code",
   "execution_count": null,
   "id": "47e65a11-5cfa-46d1-8e13-928243a8f765",
   "metadata": {},
   "outputs": [],
   "source": [
    "df.to_excel(\"test.xlsx\")"
   ]
  },
  {
   "cell_type": "markdown",
   "id": "2a03b277-a9b4-4823-ba55-1c35f87c3229",
   "metadata": {},
   "source": [
    "<div id=\"Analyse_classement\">\n",
    "    <h2>Analyse du classement</h2>\n",
    "</div>"
   ]
  },
  {
   "cell_type": "markdown",
   "id": "83eb4be8-98be-4a87-bea0-3bfa0a34a9c5",
   "metadata": {},
   "source": [
    "<p>La fonction <strong>classement</strong> nous permet de récupérer les positions des candidats situés à un certains rang du classement. Cela nous permettra ensuite d'afficher un graphique avec uniquement les 300 premiers du classement par exemple.</p>"
   ]
  },
  {
   "cell_type": "code",
   "execution_count": null,
   "id": "f0683b87",
   "metadata": {},
   "outputs": [],
   "source": [
    "def classement(mini, maxi, df):\n",
    "    df_copy = df.copy() # Créer une copie pour éviter de modifier le dataframe original\n",
    "\n",
    "    # Convertir les valeurs en numériques dans la copie pour éliminer les \"ACM\" et \"NC\" (ou autre)\n",
    "    df_copy['Classement V2'] = pd.to_numeric(df_copy['Classement V2'], errors='coerce')\n",
    "\n",
    "    # Ajuster mini et maxi si ils sont négatifs\n",
    "    mini = df_copy['Classement V2'].max() + mini if mini < 0 else mini\n",
    "    maxi = df_copy['Classement V2'].max() + maxi if maxi < 0 else maxi\n",
    "\n",
    "    # Filtrer les valeurs dans l'intervalle [min, max]\n",
    "    filtered_df = df_copy[(df_copy['Classement V2'] >= mini) & (df_copy['Classement V2'] <= maxi)]\n",
    "\n",
    "    # Retourner la liste des ID (+1)\n",
    "    return [x+1 for x in filtered_df.index.tolist()]"
   ]
  },
  {
   "cell_type": "markdown",
   "id": "a064d0a4-8f7a-4c7f-89cd-f79dcb396b5f",
   "metadata": {},
   "source": [
    "<p>Ici, on va afficher un graphique de densité du classement sur le groupe 7415. </br>\n",
    "L'afficher simplement comme ça n'aurait pas d'intérêt puisque cela produirait simplement un rectangle (toutes les barres seraient à la même valeur, vu qu'il y aurait une personne par position dans le classement).</br>\n",
    "Nous allons le <strong>filtrer par sexe</strong> avec en_fonction_de afin de voir d'abord les Femmes puis les hommes, et comparer les deux.</p>"
   ]
  },
  {
   "cell_type": "code",
   "execution_count": null,
   "id": "26462093-6c57-4ae2-b447-be559ef0c089",
   "metadata": {},
   "outputs": [],
   "source": [
    "df_7415 = df.loc[(df['Groupe candidat - Code'] == 7415)]\n",
    "graph(\"Classement V2\", type_graph = 'densite', df = df_7415, en_fonction_de = [\"Sexe\", \"Masculin\", \"Féminin\"])"
   ]
  },
  {
   "cell_type": "markdown",
   "id": "ec7347c8",
   "metadata": {},
   "source": [
    "<p>On observe que les femmes sont en moyenne mieux classées que les hommes (moyenne de position plus basse).</br>\n",
    "Cela permet de démonter une <strong>hypothèse</strong> que l'on avait qui était que les femmes étaient désavantagées dans les matières importantes pour la formation, à cause d'un biais de la société, mais l'effet observé est étonamment l'inverse.</br>\n",
    "Si cela avait été le cas nous aurions pû mettre en place une règle dans le classement de <strong>discrimination positive</strong> où les femmes auraient eu un boost sur leurs points. Mais nous n'avons donc pas besoin.</p>"
   ]
  },
  {
   "cell_type": "code",
   "execution_count": null,
   "id": "b4199419",
   "metadata": {},
   "outputs": [],
   "source": [
    "if(graph(\"Candidat boursier - Libellé\",classement=classement(1,300,df_7415),type_graph=\"circulaire\",minimum=0)): show()\n",
    "if(graph(\"Candidat boursier - Libellé\",classement=classement(-300,-100,df_7415),type_graph=\"circulaire\",minimum=0)): show()"
   ]
  },
  {
   "cell_type": "markdown",
   "id": "9b4c3c5d-4154-4703-aeb5-cccb8ba45c94",
   "metadata": {},
   "source": [
    "<p>On observe qu'il y a 10 % plus d'étudiants qui sont boursiers dans le bas du classement, peut-être que cela signifierait que l'on devrait faire de la discrimination positive envers les candidats boursiers. Vérifions avec un autre graphique :</p>"
   ]
  },
  {
   "cell_type": "code",
   "execution_count": null,
   "id": "f232c3a0",
   "metadata": {},
   "outputs": [],
   "source": [
    "graph(\"Classement V2\", type_graph = 'densite', df = df_7415, en_fonction_de = [\"Candidat boursier - Libellé\", \"Non boursier\", \"Boursier de l'enseignement scolaire\", \"Boursier de l'enseignement supérieur\"])"
   ]
  },
  {
   "cell_type": "markdown",
   "id": "c847e773",
   "metadata": {},
   "source": [
    "<p>Nous observons un <strong>différentiel de 240 places</strong> sur 2400, soit <strong>10 %</strong> entre les candidats Non Boursiers et Boursiers de l'enseignement scolaire. </p>\n",
    "<p>Nous pouvons imaginer que l'environnement dans lequel vivent les candidats Boursiers est moins propice à la performance scolaire que celui dans lequel vivent des candidats Non Boursiers. </br>\n",
    "Si cela est jugé pertinent nous pourrions ajouter quelque chose comme 5 % au score des élèves boursiers afin de compenser cet effet. <em>(Il faudrait trouver une valeur permettant de rapprocher les 2 groupes sans non plus les confondre, car la différence de notes pourrait simplement être une coincidence.)</em></p>"
   ]
  },
  {
   "cell_type": "code",
   "execution_count": null,
   "id": "3a181a9c-a09c-4f91-a27b-a5dc5e98ac01",
   "metadata": {},
   "outputs": [],
   "source": [
    "if(graph(\"Option facultative 1 Scolarité - Libellé 2022/2023\",type_graph=\"circulaire\")):show()"
   ]
  },
  {
   "cell_type": "code",
   "execution_count": null,
   "id": "1fcf5550-9ce1-4d35-9290-ccf9c7e1947a",
   "metadata": {},
   "outputs": [],
   "source": [
    "if(graph(\"Option facultative 1 Scolarité - Libellé 2022/2023\",classement=classement(1,300,df_7415),type_graph=\"circulaire\")):show()"
   ]
  },
  {
   "cell_type": "markdown",
   "id": "09593ed3-84d5-4ea9-bb81-426b0dce40bb",
   "metadata": {},
   "source": [
    "<p>91.6 % des étudiants qui ont une option parmi les 300 premiers du classement ont mathématiques expertes, ce qui est beaucoup moins varié que dans le total</p> "
   ]
  }
 ],
 "metadata": {
  "kernelspec": {
   "display_name": "Python 3 (ipykernel)",
   "language": "python",
   "name": "python3"
  },
  "language_info": {
   "codemirror_mode": {
    "name": "ipython",
    "version": 3
   },
   "file_extension": ".py",
   "mimetype": "text/x-python",
   "name": "python",
   "nbconvert_exporter": "python",
   "pygments_lexer": "ipython3",
   "version": "3.10.11"
  }
 },
 "nbformat": 4,
 "nbformat_minor": 5
}
