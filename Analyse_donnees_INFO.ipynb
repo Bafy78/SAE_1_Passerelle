{
 "cells": [
  {
   "cell_type": "code",
   "execution_count": null,
   "id": "9ef422dd-4e8e-4033-bfdb-ffffa91f44f2",
   "metadata": {},
   "outputs": [],
   "source": [
    "!pip install pandas\n",
    "!pip install matplotlib\n",
    "!pip install openpyxl"
   ]
  },
  {
   "cell_type": "code",
   "execution_count": null,
   "id": "23117a34-2416-467a-b5b7-f2c24b0be0bc",
   "metadata": {},
   "outputs": [],
   "source": [
    "import pandas as pd\n",
    "from math import *\n",
    "from matplotlib.pyplot import *\n",
    "from matplotlib import *"
   ]
  },
  {
   "cell_type": "code",
   "execution_count": null,
   "id": "3a605790-11f4-4e3d-95c3-b584d82ca36c",
   "metadata": {
    "scrolled": true
   },
   "outputs": [],
   "source": [
    "df = pd.read_excel(\"INFO_Anonyme.xlsx\")\n",
    "categories_a_drop_car_vides =[col for col in df if df[col].isna().all()]\n",
    "print('Colonnes supprimées :', categories_a_drop_car_vides)\n",
    "df = df.drop(columns=categories_a_drop_car_vides)\n",
    "print(df)"
   ]
  },
  {
   "cell_type": "code",
   "execution_count": null,
   "id": "c36b7e2c-ec11-47d5-83a8-08b16cb8bccb",
   "metadata": {},
   "outputs": [],
   "source": [
    "# Fonction qui permet d'afficher un graphe d'une catégorie avec conditions\n",
    "# catégorie : à prendre sur excel\n",
    "# minimum : affiche tout les clés qui ont + que le minimum d'étudiant, et affiche ce qui ont - du minimum dans une catégorie \"autres\"\n",
    "# Exemple d'utilisation :\n",
    "# graph_condition(\"Langue vivante B scolarité - Libellé 2022/2023\", 100)\n",
    "# show()\n",
    "def graph(categorie, type_graph='bar', minimum=20, classement=[]):\n",
    "    if(categorie[:7] == 'Moyenne'): type_graph = 'densite'\n",
    "    if(type_graph == 'densite'): return graph_densite(categorie)\n",
    "    # Convertir toutes les valeurs en chaînes pour uniformiser\n",
    "    str_values = df[categorie].astype(str)\n",
    "    dic = str_values.value_counts()\n",
    "    X_labels = dic.index.tolist()\n",
    "    Y = dic.values    \n",
    "    \n",
    "    # Si on veut observer un graphique spécique sur le classement\n",
    "    if(classement != []):\n",
    "        # Nécéssite deux mises à jours sur X_labels et Y (X_classement sur X_labels et pareil pour Y)\n",
    "        X_labels = X_classement(categorie, X_labels, classement)\n",
    "        Y = Y_classement(categorie, X_labels, classement)\n",
    "        dic = pd.Series(Y, index=X_labels)\n",
    "\n",
    "    # Mise à jour de X et Y avec les fonctions autres_X et autres_Y\n",
    "    X_labels = autres_X(X_labels, Y, minimum)\n",
    "    Y = autres_Y(X_labels, Y, minimum)\n",
    "        \n",
    "    # Supprimer les nan si c'est la barre la plus haute\n",
    "    if X_labels[0] == 'nan' and Y[0] >= max(Y):\n",
    "        X_labels = X_labels[1:]\n",
    "        Y = Y[1:]\n",
    "    \n",
    "    # Remplacer 'nan' par 'Non renseigné' dans X_labels restants\n",
    "    X_labels = ['Non renseigné' if label == 'nan' else label for label in X_labels]\n",
    "\n",
    "    if (type_graph == 'bar'): return graph_bar(categorie, minimum, Y, X_labels, dic)\n",
    "    if(type_graph == 'circulaire'): return graph_circulaire(Y, X_labels, dic, categorie)\n",
    "\n",
    "\n",
    "# Fonction qui renvoie une liste avec +n étudiant et le reste dans 'autres' pour X\n",
    "def autres_X(X, Y, n):\n",
    "    tab = []\n",
    "    autre_inclus = False\n",
    "    for i in range(len(X)):\n",
    "        if (Y[i] > n): tab.append(X[i])\n",
    "        else: autre_inclus = True\n",
    "    if autre_inclus: tab.append('Autre')\n",
    "    return tab\n",
    "\n",
    "    \n",
    "# Fonction qui renvoie une liste avec +n étudiant et le reste dans 'autres' pour Y\n",
    "def autres_Y(X, Y, n):\n",
    "    tab = []\n",
    "    autre = 0\n",
    "    for valeur in Y:\n",
    "        if (valeur > n): tab.append(valeur)\n",
    "        else: autre += valeur\n",
    "    if (autre > 0): tab.append(autre)\n",
    "    return tab\n",
    "\n",
    "\n",
    "# Fonction qui affiche spécifiquement un graphique en bâtons à partir de graph()\n",
    "def graph_bar(categorie, minimum, Y, X_labels, dic):\n",
    "    # Si 'Autre' est l'unique barre ou au moins 2 fois plus grande que la plus grande barre, refaire le graphique avec un minimum 2 fois plus petit\n",
    "    if ('Autre' in X_labels and minimum <= 20 and len(X_labels) < 25 and (len(X_labels) == 1 or Y[-1] >= 2 * max(Y[:-1]))):\n",
    "        if (minimum > 1): return graph(categorie, type_graph='bar', minimum=minimum // 2)\n",
    "        else:\n",
    "            print(\"Minimum trop petit, graphique de\", categorie, \"non généré.\")\n",
    "            return False\n",
    "\n",
    "    # Afficher la série sans la dernière ligne d'information\n",
    "    print(dic.to_string(max_rows=15))\n",
    "        \n",
    "    # Ajuster la taille du graphique en fonction du nombre de barres (1 à 2 fois la largeur standard)\n",
    "    if len(X_labels) >= 20:\n",
    "        largeur = min(6.4 * (1 + (len(X_labels) - 20) / 10), 12.8)\n",
    "        figure(figsize=(largeur, 4.8))\n",
    "    \n",
    "    # Utiliser range(len(X_labels)) pour l'axe des X\n",
    "    X = range(len(X_labels))\n",
    "    \n",
    "    # Ajuster les graduations de l'axe Y pour n'avoir que des nombres entiers\n",
    "    gca().yaxis.set_major_locator(MaxNLocator(integer=True))\n",
    "\n",
    "    # Mets des jolies couleurs et Autre en noir\n",
    "    nbr_couleurs = len(Y) - 1 if 'Autre' in X_labels else len(Y)\n",
    "    cmap = colormaps['hsv'].resampled(nbr_couleurs)\n",
    "    colors = [cmap(i) for i in range(nbr_couleurs)]\n",
    "    if ('Autre' in X_labels): colors.append('black')\n",
    "    \n",
    "    bar(X, Y, color=colors)\n",
    "    ylabel(categorie.replace('Libellé en', 'Libellé en\\n'))\n",
    "    xticks(ticks=X, labels=X_labels, rotation=-45, ha='left')\n",
    "    return True\n"
   ]
  },
  {
   "cell_type": "code",
   "execution_count": null,
   "id": "b2cff333-479f-4ba9-a943-1a2fdce0c056",
   "metadata": {
    "scrolled": true
   },
   "outputs": [],
   "source": [
    "if graph('Type Formation - Libellé  2022/2023'): show()"
   ]
  },
  {
   "cell_type": "code",
   "execution_count": null,
   "id": "36c2475b-0510-40d3-9619-517932b82ab5",
   "metadata": {},
   "outputs": [],
   "source": [
    "def graph_circulaire(Y, X_labels, dic, categorie):\n",
    "    print(dic.to_string(max_rows=15))\n",
    "    fig, ax = subplots()\n",
    "    ax.pie(Y, labels=X_labels, autopct='%1.1f%%')\n",
    "    ylabel(categorie.replace('Libellé en', 'Libellé en\\n'), labelpad=200)\n",
    "    return True"
   ]
  },
  {
   "cell_type": "code",
   "execution_count": null,
   "id": "7b5ce89a-c3f4-4c41-b729-dc22d5be2b1e",
   "metadata": {},
   "outputs": [],
   "source": [
    "graph(\"Origine de la saisie - Libellé en Langue vivante B pour trimestre 2\", type_graph='circulaire')"
   ]
  },
  {
   "cell_type": "code",
   "execution_count": null,
   "id": "0c4d1884-7691-4a87-a579-9788d8f4faf3",
   "metadata": {},
   "outputs": [],
   "source": [
    "# Fonction qui retourne les positions des étudiants classé entre 1 et max d'un groupe (0 pour 7415 et 1 pour 142309)\n",
    "def classement(max, code):\n",
    "    C = df.loc[(df['Classement'] != 'NC') & (df['Classement'] != 'ENCF')] # Supprime les NC et les ENCF de la colonne de \"Classement\"\n",
    "    classement = C.Classement.sort_values() # Créer un tableau trié de la colonne \"Classement\" par ordre de Classement (premier à dernier)\n",
    "    position = classement.index # Créer un tableau avec les positions de tout les étudiants classés\n",
    "\n",
    "    G = df[\"Groupe candidat - Code\"].value_counts()\n",
    "    groupe = G.index # Créer un tableau avec les clés 7415 et 142309 de la colonne \"Groupe candidat\"\n",
    "\n",
    "    tab = []\n",
    "    for i in position[:(max*2)]: # *2 car il y a 2 groupes différents, donc 2 \"classement\" différents\n",
    "        if df['Groupe candidat - Code'][i] == groupe[code]: # Compare le groupe de chaque étudiant\n",
    "            tab.append(i) # Ajoute si c'est la position de l'étudiant si il est dans le bon groupe\n",
    "    return tab\n",
    "\n",
    "def X_classement(categorie, X, rang):\n",
    "    tab = []\n",
    "    for i in rang:\n",
    "        if (df[categorie][i]) in X and (df[categorie][i] not in tab):\n",
    "            tab.append(df[categorie][i])\n",
    "    return tab\n",
    "\n",
    "def Y_classement(categorie, X, rang):\n",
    "    tab = []\n",
    "    for i in range(len(X)) :\n",
    "        nb = 0\n",
    "        for j in rang:\n",
    "            if(df[categorie][j] == X[i]): nb += 1\n",
    "        tab.append(nb)\n",
    "    return tab"
   ]
  },
  {
   "cell_type": "code",
   "execution_count": null,
   "id": "be44dd2a-42ad-48d1-9eb5-b672d7a21099",
   "metadata": {},
   "outputs": [],
   "source": [
    "graph(\"Candidat boursier - Libellé\", type_graph='circulaire', classement=classement(100,1))"
   ]
  },
  {
   "cell_type": "code",
   "execution_count": null,
   "id": "07df3e15-092f-4004-9c43-ebbdc1c584d5",
   "metadata": {},
   "outputs": [],
   "source": [
    "def graph_densite(categorie):\n",
    "    notes = pd.to_numeric(df[categorie], errors='coerce').dropna()\n",
    "    hist(notes, bins=20, density=True, alpha=0.6, color='g')\n",
    "    moyenne = notes.mean()\n",
    "    axvline(moyenne, color='blue', linestyle='dashed', linewidth=1)\n",
    "    text(moyenne, ylim()[1], f'Moyenne: {moyenne:.2f}', ha='right', va='top', color='blue')\n",
    "    xlim(0, 20)\n",
    "    title(f\"Densité de {categorie}\")\n",
    "    ylabel(\"Densité\")\n",
    "    xlabel(\"Notes\")\n",
    "    return True"
   ]
  },
  {
   "cell_type": "code",
   "execution_count": null,
   "id": "6833ccea-7264-4c0b-a15c-1e1fa111e1e2",
   "metadata": {},
   "outputs": [],
   "source": [
    "graph('Moyenne du Candidat en Enseignement scientifique pour trimestre 1')"
   ]
  },
  {
   "cell_type": "code",
   "execution_count": null,
   "id": "bc9bc950-4fac-4c26-a450-655a364851bd",
   "metadata": {},
   "outputs": [],
   "source": [
    "for x in df:\n",
    "    if(graph(x)): show()"
   ]
  }
 ],
 "metadata": {
  "kernelspec": {
   "display_name": "Python 3 (ipykernel)",
   "language": "python",
   "name": "python3"
  },
  "language_info": {
   "codemirror_mode": {
    "name": "ipython",
    "version": 3
   },
   "file_extension": ".py",
   "mimetype": "text/x-python",
   "name": "python",
   "nbconvert_exporter": "python",
   "pygments_lexer": "ipython3",
   "version": "3.11.2"
  }
 },
 "nbformat": 4,
 "nbformat_minor": 5
}
